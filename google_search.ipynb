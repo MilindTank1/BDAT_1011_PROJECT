{
 "cells": [
  {
   "cell_type": "code",
   "execution_count": 1,
   "id": "9fa44f1b",
   "metadata": {},
   "outputs": [
    {
     "name": "stdout",
     "output_type": "stream",
     "text": [
      "Enter your query: aerosmith\n",
      "https://www.aerosmith.com/\n",
      "https://www.facebook.com/aerosmith\n",
      "https://twitter.com/aerosmith\n",
      "https://instagram.com/aerosmith\n",
      "https://instagram.com/aerosmith\n",
      "https://twitter.com/aerosmith/status/1539250388599201793\n",
      "https://twitter.com/aerosmith/status/1538860826026729472\n",
      "https://twitter.com/aerosmith/status/1538130934234599424\n",
      "https://twitter.com/aerosmith/status/1535033587967447042\n",
      "https://twitter.com/aerosmith/status/1533797428129894401\n",
      "https://twitter.com/aerosmith/status/1529145918712336386\n",
      "https://twitter.com/aerosmith/status/1527360198582538275\n",
      "https://twitter.com/aerosmith/status/1520077156633792512\n"
     ]
    }
   ],
   "source": [
    "#Use this code\n",
    "import bs4 # library for pulling data out of HTML and XML files.\n",
    "import requests\n",
    "from googlesearch import search\n",
    "import webbrowser #To open the link \n",
    "query = input(\"Enter your query: \")\n",
    "dotcom = \".com\"\n",
    "query_dot_com = query+dotcom\n",
    "for i in search(query_dot_com, tld=\"com\", num=1, stop=1, pause=2): #TLD=com -> top level domain\n",
    "    print(i)\n",
    "    url = i\n",
    "    webbrowser.open(i)\n",
    "data = requests.get(url)\n",
    "soup = bs4.BeautifulSoup(data.text, 'html.parser')\n",
    "for links in soup.find_all('a'):\n",
    "    link=links.get('href')\n",
    "    if \"twitter.com\" in link:\n",
    "        print(link)\n",
    "    elif \"facebook.com\" in link:\n",
    "        print(link)\n",
    "    elif \"instagram.com\" in link:\n",
    "        instagram=link\n",
    "        print(link)\n",
    "        #instagram.scrape()\n",
    "\n",
    "\n",
    "#print(instagram.followers)\n",
    "    "
   ]
  }
 ],
 "metadata": {
  "kernelspec": {
   "display_name": "Python 3 (ipykernel)",
   "language": "python",
   "name": "python3"
  },
  "language_info": {
   "codemirror_mode": {
    "name": "ipython",
    "version": 3
   },
   "file_extension": ".py",
   "mimetype": "text/x-python",
   "name": "python",
   "nbconvert_exporter": "python",
   "pygments_lexer": "ipython3",
   "version": "3.9.7"
  }
 },
 "nbformat": 4,
 "nbformat_minor": 5
}
