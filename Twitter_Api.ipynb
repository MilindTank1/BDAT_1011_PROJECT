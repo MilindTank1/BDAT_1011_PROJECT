{
 "cells": [
  {
   "cell_type": "code",
   "execution_count": 11,
   "id": "b2f3f401",
   "metadata": {},
   "outputs": [
    {
     "name": "stdout",
     "output_type": "stream",
     "text": [
      "Enter Artist's Name: Aerosmith\n",
      "number of followers: 2,125,576\n",
      "ID of user 25743813\n",
      "The description of the user is : Aerosmith is America's Greatest Rock N' Roll Band.\n"
     ]
    }
   ],
   "source": [
    "import tweepy\n",
    "\n",
    "twitter = tweepy.Client(bearer_token=Bearer_Token)\n",
    "username = input(\"Enter Artist's Name: \")\n",
    "\n",
    "\n",
    "follower = twitter.get_user(username=username, user_fields=[\"public_metrics\"]).data.public_metrics['followers_count']\n",
    "numbers = \"{:,}\".format(follower)\n",
    "print('number of followers:',numbers)\n",
    "\n",
    "api = tweepy.API(auth)\n",
    "\n",
    "user = api.get_user(screen_name='Aerosmith')\n",
    "description = user.description\n",
    "\n",
    "print('ID of user',user.id)\n",
    "print(\"The description of the user is : \" + description)"
   ]
  },
  {
   "cell_type": "code",
   "execution_count": 8,
   "id": "b7c18a6a",
   "metadata": {},
   "outputs": [],
   "source": [
    "api_key = '0AdD8gRrY5KKUJAgrqcJ76XDE'\n",
    "api_key_secret = 'Zu8ZmDvqPPnS9Q5EihIVsMwdIsAKWeMUimrWQwbaCWkjpaI6PP'\n",
    "Access_Token = '1536873952752041984-IgzzzLE3UtP0hUNoz0I6Ti0VRNgPV4'\n",
    "Access_Token_Secret = '142ddxWGEi2qoFp43ItUS9iHRtsAJJz8rChw6CUFUq4GW'\n",
    "Bearer_Token = 'AAAAAAAAAAAAAAAAAAAAAJnheAEAAAAAEG58cHm%2BDHbWEwFk%2FKFTCLH4EJM%3Dp0EyOHCMk8lnNuTisD2aqd6w9J9hp2t0npQM0aQohA3n5ktJqU'\n"
   ]
  },
  {
   "cell_type": "code",
   "execution_count": 3,
   "id": "ad9620a1",
   "metadata": {},
   "outputs": [
    {
     "name": "stdout",
     "output_type": "stream",
     "text": [
      "Requirement already satisfied: tweepy in c:\\users\\tank_\\anaconda3\\lib\\site-packages (4.10.0)\n",
      "Requirement already satisfied: requests-oauthlib<2,>=1.2.0 in c:\\users\\tank_\\anaconda3\\lib\\site-packages (from tweepy) (1.3.1)\n",
      "Requirement already satisfied: requests<3,>=2.27.0 in c:\\users\\tank_\\anaconda3\\lib\\site-packages (from tweepy) (2.28.0)\n",
      "Requirement already satisfied: oauthlib<4,>=3.2.0 in c:\\users\\tank_\\anaconda3\\lib\\site-packages (from tweepy) (3.2.0)\n",
      "Requirement already satisfied: charset-normalizer~=2.0.0 in c:\\users\\tank_\\anaconda3\\lib\\site-packages (from requests<3,>=2.27.0->tweepy) (2.0.4)\n",
      "Requirement already satisfied: idna<4,>=2.5 in c:\\users\\tank_\\anaconda3\\lib\\site-packages (from requests<3,>=2.27.0->tweepy) (3.2)\n",
      "Requirement already satisfied: certifi>=2017.4.17 in c:\\users\\tank_\\anaconda3\\lib\\site-packages (from requests<3,>=2.27.0->tweepy) (2021.10.8)\n",
      "Requirement already satisfied: urllib3<1.27,>=1.21.1 in c:\\users\\tank_\\anaconda3\\lib\\site-packages (from requests<3,>=2.27.0->tweepy) (1.26.7)\n",
      "Note: you may need to restart the kernel to use updated packages.\n"
     ]
    }
   ],
   "source": [
    "pip install tweepy --upgrade"
   ]
  },
  {
   "cell_type": "code",
   "execution_count": 8,
   "id": "09639b3f",
   "metadata": {},
   "outputs": [
    {
     "name": "stdout",
     "output_type": "stream",
     "text": [
      "Requirement already satisfied: tweepy in c:\\users\\tank_\\anaconda3\\lib\\site-packages (4.10.0)\n",
      "Requirement already satisfied: requests-oauthlib<2,>=1.2.0 in c:\\users\\tank_\\anaconda3\\lib\\site-packages (from tweepy) (1.3.1)\n",
      "Requirement already satisfied: requests<3,>=2.27.0 in c:\\users\\tank_\\anaconda3\\lib\\site-packages (from tweepy) (2.28.0)\n",
      "Requirement already satisfied: oauthlib<4,>=3.2.0 in c:\\users\\tank_\\anaconda3\\lib\\site-packages (from tweepy) (3.2.0)\n",
      "Note: you may need to restart the kernel to use updated packages.Requirement already satisfied: charset-normalizer~=2.0.0 in c:\\users\\tank_\\anaconda3\\lib\\site-packages (from requests<3,>=2.27.0->tweepy) (2.0.4)\n",
      "\n",
      "Requirement already satisfied: urllib3<1.27,>=1.21.1 in c:\\users\\tank_\\anaconda3\\lib\\site-packages (from requests<3,>=2.27.0->tweepy) (1.26.7)\n",
      "Requirement already satisfied: idna<4,>=2.5 in c:\\users\\tank_\\anaconda3\\lib\\site-packages (from requests<3,>=2.27.0->tweepy) (3.2)\n",
      "Requirement already satisfied: certifi>=2017.4.17 in c:\\users\\tank_\\anaconda3\\lib\\site-packages (from requests<3,>=2.27.0->tweepy) (2021.10.8)\n"
     ]
    }
   ],
   "source": [
    "pip install tweepy"
   ]
  },
  {
   "cell_type": "code",
   "execution_count": 6,
   "id": "0d8f8823",
   "metadata": {},
   "outputs": [
    {
     "name": "stdout",
     "output_type": "stream",
     "text": [
      "25743813\n",
      "The description of the user is : Aerosmith is America's Greatest Rock N' Roll Band.\n"
     ]
    }
   ],
   "source": [
    "# import the module\n",
    "import tweepy\n",
    "\n",
    "# assign the values accordingly\n",
    "consumer_key = \"0AdD8gRrY5KKUJAgrqcJ76XDE\"\n",
    "consumer_secret = \"Zu8ZmDvqPPnS9Q5EihIVsMwdIsAKWeMUimrWQwbaCWkjpaI6PP\"\n",
    "access_token = \"1536873952752041984-IgzzzLE3UtP0hUNoz0I6Ti0VRNgPV4\"\n",
    "access_token_secret = \"142ddxWGEi2qoFp43ItUS9iHRtsAJJz8rChw6CUFUq4GW\"\n",
    "\n",
    "# authorization of consumer key and consumer secret\n",
    "auth = tweepy.OAuthHandler(consumer_key, consumer_secret)\n",
    "\n",
    "# set access to user's access key and access secret\n",
    "auth.set_access_token(access_token, access_token_secret)\n",
    "\n",
    "# calling the api\n",
    "api = tweepy.API(auth)\n",
    "\n",
    "user = api.get_user(screen_name='Aerosmith')\n",
    "description = user.description\n",
    "\n",
    "print(user.id)\n",
    "print(\"The description of the user is : \" + description)\n"
   ]
  }
 ],
 "metadata": {
  "kernelspec": {
   "display_name": "Python 3 (ipykernel)",
   "language": "python",
   "name": "python3"
  },
  "language_info": {
   "codemirror_mode": {
    "name": "ipython",
    "version": 3
   },
   "file_extension": ".py",
   "mimetype": "text/x-python",
   "name": "python",
   "nbconvert_exporter": "python",
   "pygments_lexer": "ipython3",
   "version": "3.9.7"
  }
 },
 "nbformat": 4,
 "nbformat_minor": 5
}
