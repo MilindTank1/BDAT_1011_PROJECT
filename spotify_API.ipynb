{
 "cells": [
  {
   "cell_type": "code",
   "execution_count": 37,
   "id": "dd791393",
   "metadata": {},
   "outputs": [],
   "source": [
    "import requests\n",
    "\n",
    "CLIENT_ID = '804463d1343642ae8c56e1f06d50c366'\n",
    "CLIENT_SECRET = 'c6e38ac3c605420f824a6748994311b3'"
   ]
  },
  {
   "cell_type": "code",
   "execution_count": 38,
   "id": "faf11deb",
   "metadata": {},
   "outputs": [],
   "source": [
    "AUTH_URL = 'https://accounts.spotify.com/api/token'\n",
    "\n",
    "# POST\n",
    "auth_response = requests.post(AUTH_URL, {\n",
    "    'grant_type': 'client_credentials',\n",
    "    'client_id': CLIENT_ID,\n",
    "    'client_secret': CLIENT_SECRET,\n",
    "})\n",
    "\n",
    "# convert the response to JSON\n",
    "auth_response_data = auth_response.json()\n",
    "\n",
    "# save the access token\n",
    "access_token = auth_response_data['access_token']"
   ]
  },
  {
   "cell_type": "code",
   "execution_count": 39,
   "id": "b42e46cf",
   "metadata": {},
   "outputs": [],
   "source": [
    "headers = {\n",
    "    'Authorization': 'Bearer {token}'.format(token=access_token)\n",
    "}"
   ]
  },
  {
   "cell_type": "code",
   "execution_count": 40,
   "id": "c23fb6fd",
   "metadata": {},
   "outputs": [],
   "source": [
    "# base URL of all Spotify API endpoints\n",
    "BASE_URL = 'https://api.spotify.com/v1/'\n",
    "\n",
    "# Track ID from the URI\n",
    "track_id = '6y0igZArWVi6Iz0rj35c1Y'\n",
    "\n",
    "# actual GET request with proper header\n",
    "r = requests.get(BASE_URL + 'audio-features/' + track_id, headers=headers)"
   ]
  },
  {
   "cell_type": "code",
   "execution_count": 64,
   "id": "b6ec87c3",
   "metadata": {},
   "outputs": [],
   "source": [
    "#find info about artist\n",
    "\n",
    "artist_id = '06HL4z0CvFAxyc27GXpf02'\n",
    "\n",
    "r = requests.get(BASE_URL + 'artists/' + artist_id, \n",
    "                 headers=headers)\n",
    "                 #params={'include_groups': 'artists', 'limit': 50})\n",
    "d = r.json()"
   ]
  },
  {
   "cell_type": "code",
   "execution_count": 65,
   "id": "e1d82dcd",
   "metadata": {},
   "outputs": [
    {
     "name": "stdout",
     "output_type": "stream",
     "text": [
      "Taylor Swift  ---  ['pop']  ---  98\n"
     ]
    }
   ],
   "source": [
    "#for artists in de['items']:\n",
    "print(d['name'], ' --- ', d['genres'],' --- ', d['popularity']) "
   ]
  },
  {
   "cell_type": "code",
   "execution_count": null,
   "id": "2cce9eea",
   "metadata": {},
   "outputs": [],
   "source": []
  }
 ],
 "metadata": {
  "kernelspec": {
   "display_name": "Python 3 (ipykernel)",
   "language": "python",
   "name": "python3"
  },
  "language_info": {
   "codemirror_mode": {
    "name": "ipython",
    "version": 3
   },
   "file_extension": ".py",
   "mimetype": "text/x-python",
   "name": "python",
   "nbconvert_exporter": "python",
   "pygments_lexer": "ipython3",
   "version": "3.9.7"
  }
 },
 "nbformat": 4,
 "nbformat_minor": 5
}
